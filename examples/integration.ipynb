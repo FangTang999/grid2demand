{
 "cells": [
  {
   "cell_type": "code",
   "execution_count": 9,
   "metadata": {},
   "outputs": [],
   "source": [
    "import osm2gmns as og"
   ]
  },
  {
   "cell_type": "code",
   "execution_count": null,
   "metadata": {},
   "outputs": [],
   "source": [
    "net = og.getNetFromOSMFile('umd.osm')\n",
    "og.outputNetToCSV(net)"
   ]
  },
  {
   "cell_type": "code",
   "execution_count": 7,
   "metadata": {},
   "outputs": [],
   "source": [
    "import grid2demand as gd"
   ]
  },
  {
   "cell_type": "code",
   "execution_count": 8,
   "metadata": {},
   "outputs": [
    {
     "name": "stdout",
     "output_type": "stream",
     "text": [
      "\n",
      "Number of Zones: 180\n",
      "\n",
      "Trip purpose used for grid2demand is: 1\n",
      "\n",
      "Total number of poi nodes with unmatched production rate are: 0\n",
      "Total number of poi nodes with unmatched attraction rate are: 0\n",
      "\n",
      "Latitude used for grid2demand is: 30\n",
      "\n",
      "Number of OD pairs:  32400\n",
      "\n",
      "Default values of friction factor coefficients under trip purpose 1 are: \n",
      "a= 28507 \n",
      "b= -0.02 \n",
      "c= -0.123\n"
     ]
    }
   ],
   "source": [
    "\"Step 1: Read Input Network Data\"\n",
    "net = gd.ReadNetworkFiles('')\n",
    "\n",
    "\"Step 2: Partition Grid into cells\"\n",
    "zone = gd.PartitionGrid(number_of_x_blocks=5, number_of_y_blocks=5, cell_width=None, cell_height=None,\n",
    "                           latitude=30)\n",
    "# user can customize number of grid cells or cell's width and height\n",
    "\n",
    "\"Step 3: Get Production/Attraction Rates of Each Land Use Type with a Specific Trip Purpose\"\n",
    "triprate = gd.GetPoiTripRate(trip_rate_folder='',trip_purpose=1)\n",
    "# user can customize poi_trip_rate.csv and trip purpose\n",
    "\n",
    "\"Step 4: Define Production/Attraction Value of Each Node According to POI Type\"\n",
    "nodedemand = gd.GetNodeDemand()\n",
    "\n",
    "\"Step 5: Calculate Zone-to-zone Accessibility Matrix by Centroid-to-centroid Straight Distance\"\n",
    "accessibility = gd.ProduceAccessMatrix(latitude=30, accessibility_folder='')\n",
    "# user can customize the latitude of the research area and accessibility.csv\n",
    "\n",
    "\"Step 6: Apply Gravity Model to Conduct Trip Distribution\"\n",
    "demand = gd.RunGravityModel(trip_purpose=1, a=None, b=None, c=None)\n",
    "# user can customize friction factor coefficients under a specific trip purpose\n",
    "\"Step 7: Generate Agent\"\n",
    "demand = gd.GenerateAgentBasedDemand()"
   ]
  },
  {
   "cell_type": "code",
   "execution_count": null,
   "metadata": {},
   "outputs": [],
   "source": []
  },
  {
   "cell_type": "code",
   "execution_count": null,
   "metadata": {},
   "outputs": [],
   "source": []
  }
 ],
 "metadata": {
  "kernelspec": {
   "display_name": "Python 3",
   "language": "python",
   "name": "python3"
  },
  "language_info": {
   "codemirror_mode": {
    "name": "ipython",
    "version": 3
   },
   "file_extension": ".py",
   "mimetype": "text/x-python",
   "name": "python",
   "nbconvert_exporter": "python",
   "pygments_lexer": "ipython3",
   "version": "3.7.6"
  }
 },
 "nbformat": 4,
 "nbformat_minor": 4
}
